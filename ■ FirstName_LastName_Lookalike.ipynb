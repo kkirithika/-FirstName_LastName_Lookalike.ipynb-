import pandas as pd
from sklearn.preprocessing import StandardScaler
from sklearn.metrics.pairwise import cosine_similarity


customers = pd.read_csv("Customers.csv")
transactions = pd.read_csv("Transactions.csv")


customer_spending = transactions.groupby("CustomerID")["TotalValue"].sum().reset_index()
customer_product_count = transactions.groupby("CustomerID")["ProductID"].nunique().reset_index()

customer_data = pd.merge(customers, customer_spending, on="CustomerID", how="left").fillna(0)
customer_data = pd.merge(customer_data, customer_product_count, on="CustomerID", how="left").fillna(0)

features = ["TotalValue", "ProductID"]
scaler = StandardScaler()
customer_data_scaled = scaler.fit_transform(customer_data[features])


similarity_matrix = cosine_similarity(customer_data_scaled)
customer_ids = customer_data["CustomerID"].tolist()

lookalike_dict = {}
for idx, cust_id in enumerate(customer_ids[:20]):
    similar_indices = similarity_matrix[idx].argsort()[::-1][1:4]  # Top 3 similar customers
    lookalike_dict[cust_id] = [(customer_ids[i], round(similarity_matrix[idx][i], 2)) for i in similar_indices]

lookalike_df = pd.DataFrame.from_dict(lookalike_dict, orient='index')
lookalike_df.to_csv("Lookalike.csv", header=False)

print(lookalike_df.head())
